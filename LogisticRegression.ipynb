{
  "nbformat": 4,
  "nbformat_minor": 0,
  "metadata": {
    "colab": {
      "provenance": []
    },
    "kernelspec": {
      "name": "python3",
      "display_name": "Python 3"
    },
    "language_info": {
      "name": "python"
    }
  },
  "cells": [
    {
      "cell_type": "code",
      "execution_count": null,
      "metadata": {
        "id": "6AgaYfCINsVg"
      },
      "outputs": [],
      "source": [
        "import pandas as pd\n",
        "import numpy as np\n",
        "import scipy.optimize as opt\n",
        "from sklearn import preprocessing\n",
        "import matplotlib.pyplot as plt\n",
        "from sklearn.model_selection import train_test_split\n",
        "from sklearn.linear_model import LogisticRegression\n",
        "from sklearn.metrics import confusion_matrix, ConfusionMatrixDisplay, classification_report"
      ]
    },
    {
      "cell_type": "code",
      "source": [
        "#get the data\n",
        "!wget -O ChurnData.csv https://cf-courses-data.s3.us.cloud-object-storage.appdomain.cloud/IBMDeveloperSkillsNetwork-ML0101EN-SkillsNetwork/labs/Module%203/data/ChurnData.csv"
      ],
      "metadata": {
        "colab": {
          "base_uri": "https://localhost:8080/"
        },
        "id": "JgxzGiNEOIyC",
        "outputId": "3dcdea7e-1f46-44a1-f13f-53ae6ff38232"
      },
      "execution_count": null,
      "outputs": [
        {
          "output_type": "stream",
          "name": "stdout",
          "text": [
            "--2024-01-06 19:21:37--  https://cf-courses-data.s3.us.cloud-object-storage.appdomain.cloud/IBMDeveloperSkillsNetwork-ML0101EN-SkillsNetwork/labs/Module%203/data/ChurnData.csv\n",
            "Resolving cf-courses-data.s3.us.cloud-object-storage.appdomain.cloud (cf-courses-data.s3.us.cloud-object-storage.appdomain.cloud)... 169.45.118.108\n",
            "Connecting to cf-courses-data.s3.us.cloud-object-storage.appdomain.cloud (cf-courses-data.s3.us.cloud-object-storage.appdomain.cloud)|169.45.118.108|:443... connected.\n",
            "HTTP request sent, awaiting response... 200 OK\n",
            "Length: 35943 (35K) [text/csv]\n",
            "Saving to: ‘ChurnData.csv’\n",
            "\n",
            "ChurnData.csv       100%[===================>]  35.10K  --.-KB/s    in 0.04s   \n",
            "\n",
            "2024-01-06 19:21:37 (859 KB/s) - ‘ChurnData.csv’ saved [35943/35943]\n",
            "\n"
          ]
        }
      ]
    },
    {
      "cell_type": "code",
      "source": [
        "churn_df = pd.read_csv(\"ChurnData.csv\")\n",
        "churn_df.head()"
      ],
      "metadata": {
        "colab": {
          "base_uri": "https://localhost:8080/",
          "height": 235
        },
        "id": "Xz4r5hLyOT5s",
        "outputId": "cd2fdd21-91ca-4720-f058-46f47678ab5d"
      },
      "execution_count": null,
      "outputs": [
        {
          "output_type": "execute_result",
          "data": {
            "text/plain": [
              "   tenure   age  address  income   ed  employ  equip  callcard  wireless  \\\n",
              "0    11.0  33.0      7.0   136.0  5.0     5.0    0.0       1.0       1.0   \n",
              "1    33.0  33.0     12.0    33.0  2.0     0.0    0.0       0.0       0.0   \n",
              "2    23.0  30.0      9.0    30.0  1.0     2.0    0.0       0.0       0.0   \n",
              "3    38.0  35.0      5.0    76.0  2.0    10.0    1.0       1.0       1.0   \n",
              "4     7.0  35.0     14.0    80.0  2.0    15.0    0.0       1.0       0.0   \n",
              "\n",
              "   longmon  ...  pager  internet  callwait  confer  ebill  loglong  logtoll  \\\n",
              "0     4.40  ...    1.0       0.0       1.0     1.0    0.0    1.482    3.033   \n",
              "1     9.45  ...    0.0       0.0       0.0     0.0    0.0    2.246    3.240   \n",
              "2     6.30  ...    0.0       0.0       0.0     1.0    0.0    1.841    3.240   \n",
              "3     6.05  ...    1.0       1.0       1.0     1.0    1.0    1.800    3.807   \n",
              "4     7.10  ...    0.0       0.0       1.0     1.0    0.0    1.960    3.091   \n",
              "\n",
              "   lninc  custcat  churn  \n",
              "0  4.913      4.0    1.0  \n",
              "1  3.497      1.0    1.0  \n",
              "2  3.401      3.0    0.0  \n",
              "3  4.331      4.0    0.0  \n",
              "4  4.382      3.0    0.0  \n",
              "\n",
              "[5 rows x 28 columns]"
            ],
            "text/html": [
              "\n",
              "  <div id=\"df-c4f7c8d3-6953-40a0-8ab3-7ae8ac1da74d\" class=\"colab-df-container\">\n",
              "    <div>\n",
              "<style scoped>\n",
              "    .dataframe tbody tr th:only-of-type {\n",
              "        vertical-align: middle;\n",
              "    }\n",
              "\n",
              "    .dataframe tbody tr th {\n",
              "        vertical-align: top;\n",
              "    }\n",
              "\n",
              "    .dataframe thead th {\n",
              "        text-align: right;\n",
              "    }\n",
              "</style>\n",
              "<table border=\"1\" class=\"dataframe\">\n",
              "  <thead>\n",
              "    <tr style=\"text-align: right;\">\n",
              "      <th></th>\n",
              "      <th>tenure</th>\n",
              "      <th>age</th>\n",
              "      <th>address</th>\n",
              "      <th>income</th>\n",
              "      <th>ed</th>\n",
              "      <th>employ</th>\n",
              "      <th>equip</th>\n",
              "      <th>callcard</th>\n",
              "      <th>wireless</th>\n",
              "      <th>longmon</th>\n",
              "      <th>...</th>\n",
              "      <th>pager</th>\n",
              "      <th>internet</th>\n",
              "      <th>callwait</th>\n",
              "      <th>confer</th>\n",
              "      <th>ebill</th>\n",
              "      <th>loglong</th>\n",
              "      <th>logtoll</th>\n",
              "      <th>lninc</th>\n",
              "      <th>custcat</th>\n",
              "      <th>churn</th>\n",
              "    </tr>\n",
              "  </thead>\n",
              "  <tbody>\n",
              "    <tr>\n",
              "      <th>0</th>\n",
              "      <td>11.0</td>\n",
              "      <td>33.0</td>\n",
              "      <td>7.0</td>\n",
              "      <td>136.0</td>\n",
              "      <td>5.0</td>\n",
              "      <td>5.0</td>\n",
              "      <td>0.0</td>\n",
              "      <td>1.0</td>\n",
              "      <td>1.0</td>\n",
              "      <td>4.40</td>\n",
              "      <td>...</td>\n",
              "      <td>1.0</td>\n",
              "      <td>0.0</td>\n",
              "      <td>1.0</td>\n",
              "      <td>1.0</td>\n",
              "      <td>0.0</td>\n",
              "      <td>1.482</td>\n",
              "      <td>3.033</td>\n",
              "      <td>4.913</td>\n",
              "      <td>4.0</td>\n",
              "      <td>1.0</td>\n",
              "    </tr>\n",
              "    <tr>\n",
              "      <th>1</th>\n",
              "      <td>33.0</td>\n",
              "      <td>33.0</td>\n",
              "      <td>12.0</td>\n",
              "      <td>33.0</td>\n",
              "      <td>2.0</td>\n",
              "      <td>0.0</td>\n",
              "      <td>0.0</td>\n",
              "      <td>0.0</td>\n",
              "      <td>0.0</td>\n",
              "      <td>9.45</td>\n",
              "      <td>...</td>\n",
              "      <td>0.0</td>\n",
              "      <td>0.0</td>\n",
              "      <td>0.0</td>\n",
              "      <td>0.0</td>\n",
              "      <td>0.0</td>\n",
              "      <td>2.246</td>\n",
              "      <td>3.240</td>\n",
              "      <td>3.497</td>\n",
              "      <td>1.0</td>\n",
              "      <td>1.0</td>\n",
              "    </tr>\n",
              "    <tr>\n",
              "      <th>2</th>\n",
              "      <td>23.0</td>\n",
              "      <td>30.0</td>\n",
              "      <td>9.0</td>\n",
              "      <td>30.0</td>\n",
              "      <td>1.0</td>\n",
              "      <td>2.0</td>\n",
              "      <td>0.0</td>\n",
              "      <td>0.0</td>\n",
              "      <td>0.0</td>\n",
              "      <td>6.30</td>\n",
              "      <td>...</td>\n",
              "      <td>0.0</td>\n",
              "      <td>0.0</td>\n",
              "      <td>0.0</td>\n",
              "      <td>1.0</td>\n",
              "      <td>0.0</td>\n",
              "      <td>1.841</td>\n",
              "      <td>3.240</td>\n",
              "      <td>3.401</td>\n",
              "      <td>3.0</td>\n",
              "      <td>0.0</td>\n",
              "    </tr>\n",
              "    <tr>\n",
              "      <th>3</th>\n",
              "      <td>38.0</td>\n",
              "      <td>35.0</td>\n",
              "      <td>5.0</td>\n",
              "      <td>76.0</td>\n",
              "      <td>2.0</td>\n",
              "      <td>10.0</td>\n",
              "      <td>1.0</td>\n",
              "      <td>1.0</td>\n",
              "      <td>1.0</td>\n",
              "      <td>6.05</td>\n",
              "      <td>...</td>\n",
              "      <td>1.0</td>\n",
              "      <td>1.0</td>\n",
              "      <td>1.0</td>\n",
              "      <td>1.0</td>\n",
              "      <td>1.0</td>\n",
              "      <td>1.800</td>\n",
              "      <td>3.807</td>\n",
              "      <td>4.331</td>\n",
              "      <td>4.0</td>\n",
              "      <td>0.0</td>\n",
              "    </tr>\n",
              "    <tr>\n",
              "      <th>4</th>\n",
              "      <td>7.0</td>\n",
              "      <td>35.0</td>\n",
              "      <td>14.0</td>\n",
              "      <td>80.0</td>\n",
              "      <td>2.0</td>\n",
              "      <td>15.0</td>\n",
              "      <td>0.0</td>\n",
              "      <td>1.0</td>\n",
              "      <td>0.0</td>\n",
              "      <td>7.10</td>\n",
              "      <td>...</td>\n",
              "      <td>0.0</td>\n",
              "      <td>0.0</td>\n",
              "      <td>1.0</td>\n",
              "      <td>1.0</td>\n",
              "      <td>0.0</td>\n",
              "      <td>1.960</td>\n",
              "      <td>3.091</td>\n",
              "      <td>4.382</td>\n",
              "      <td>3.0</td>\n",
              "      <td>0.0</td>\n",
              "    </tr>\n",
              "  </tbody>\n",
              "</table>\n",
              "<p>5 rows × 28 columns</p>\n",
              "</div>\n",
              "    <div class=\"colab-df-buttons\">\n",
              "\n",
              "  <div class=\"colab-df-container\">\n",
              "    <button class=\"colab-df-convert\" onclick=\"convertToInteractive('df-c4f7c8d3-6953-40a0-8ab3-7ae8ac1da74d')\"\n",
              "            title=\"Convert this dataframe to an interactive table.\"\n",
              "            style=\"display:none;\">\n",
              "\n",
              "  <svg xmlns=\"http://www.w3.org/2000/svg\" height=\"24px\" viewBox=\"0 -960 960 960\">\n",
              "    <path d=\"M120-120v-720h720v720H120Zm60-500h600v-160H180v160Zm220 220h160v-160H400v160Zm0 220h160v-160H400v160ZM180-400h160v-160H180v160Zm440 0h160v-160H620v160ZM180-180h160v-160H180v160Zm440 0h160v-160H620v160Z\"/>\n",
              "  </svg>\n",
              "    </button>\n",
              "\n",
              "  <style>\n",
              "    .colab-df-container {\n",
              "      display:flex;\n",
              "      gap: 12px;\n",
              "    }\n",
              "\n",
              "    .colab-df-convert {\n",
              "      background-color: #E8F0FE;\n",
              "      border: none;\n",
              "      border-radius: 50%;\n",
              "      cursor: pointer;\n",
              "      display: none;\n",
              "      fill: #1967D2;\n",
              "      height: 32px;\n",
              "      padding: 0 0 0 0;\n",
              "      width: 32px;\n",
              "    }\n",
              "\n",
              "    .colab-df-convert:hover {\n",
              "      background-color: #E2EBFA;\n",
              "      box-shadow: 0px 1px 2px rgba(60, 64, 67, 0.3), 0px 1px 3px 1px rgba(60, 64, 67, 0.15);\n",
              "      fill: #174EA6;\n",
              "    }\n",
              "\n",
              "    .colab-df-buttons div {\n",
              "      margin-bottom: 4px;\n",
              "    }\n",
              "\n",
              "    [theme=dark] .colab-df-convert {\n",
              "      background-color: #3B4455;\n",
              "      fill: #D2E3FC;\n",
              "    }\n",
              "\n",
              "    [theme=dark] .colab-df-convert:hover {\n",
              "      background-color: #434B5C;\n",
              "      box-shadow: 0px 1px 3px 1px rgba(0, 0, 0, 0.15);\n",
              "      filter: drop-shadow(0px 1px 2px rgba(0, 0, 0, 0.3));\n",
              "      fill: #FFFFFF;\n",
              "    }\n",
              "  </style>\n",
              "\n",
              "    <script>\n",
              "      const buttonEl =\n",
              "        document.querySelector('#df-c4f7c8d3-6953-40a0-8ab3-7ae8ac1da74d button.colab-df-convert');\n",
              "      buttonEl.style.display =\n",
              "        google.colab.kernel.accessAllowed ? 'block' : 'none';\n",
              "\n",
              "      async function convertToInteractive(key) {\n",
              "        const element = document.querySelector('#df-c4f7c8d3-6953-40a0-8ab3-7ae8ac1da74d');\n",
              "        const dataTable =\n",
              "          await google.colab.kernel.invokeFunction('convertToInteractive',\n",
              "                                                    [key], {});\n",
              "        if (!dataTable) return;\n",
              "\n",
              "        const docLinkHtml = 'Like what you see? Visit the ' +\n",
              "          '<a target=\"_blank\" href=https://colab.research.google.com/notebooks/data_table.ipynb>data table notebook</a>'\n",
              "          + ' to learn more about interactive tables.';\n",
              "        element.innerHTML = '';\n",
              "        dataTable['output_type'] = 'display_data';\n",
              "        await google.colab.output.renderOutput(dataTable, element);\n",
              "        const docLink = document.createElement('div');\n",
              "        docLink.innerHTML = docLinkHtml;\n",
              "        element.appendChild(docLink);\n",
              "      }\n",
              "    </script>\n",
              "  </div>\n",
              "\n",
              "\n",
              "<div id=\"df-f31e23e4-5d35-4149-b7b8-3686f44eda68\">\n",
              "  <button class=\"colab-df-quickchart\" onclick=\"quickchart('df-f31e23e4-5d35-4149-b7b8-3686f44eda68')\"\n",
              "            title=\"Suggest charts\"\n",
              "            style=\"display:none;\">\n",
              "\n",
              "<svg xmlns=\"http://www.w3.org/2000/svg\" height=\"24px\"viewBox=\"0 0 24 24\"\n",
              "     width=\"24px\">\n",
              "    <g>\n",
              "        <path d=\"M19 3H5c-1.1 0-2 .9-2 2v14c0 1.1.9 2 2 2h14c1.1 0 2-.9 2-2V5c0-1.1-.9-2-2-2zM9 17H7v-7h2v7zm4 0h-2V7h2v10zm4 0h-2v-4h2v4z\"/>\n",
              "    </g>\n",
              "</svg>\n",
              "  </button>\n",
              "\n",
              "<style>\n",
              "  .colab-df-quickchart {\n",
              "      --bg-color: #E8F0FE;\n",
              "      --fill-color: #1967D2;\n",
              "      --hover-bg-color: #E2EBFA;\n",
              "      --hover-fill-color: #174EA6;\n",
              "      --disabled-fill-color: #AAA;\n",
              "      --disabled-bg-color: #DDD;\n",
              "  }\n",
              "\n",
              "  [theme=dark] .colab-df-quickchart {\n",
              "      --bg-color: #3B4455;\n",
              "      --fill-color: #D2E3FC;\n",
              "      --hover-bg-color: #434B5C;\n",
              "      --hover-fill-color: #FFFFFF;\n",
              "      --disabled-bg-color: #3B4455;\n",
              "      --disabled-fill-color: #666;\n",
              "  }\n",
              "\n",
              "  .colab-df-quickchart {\n",
              "    background-color: var(--bg-color);\n",
              "    border: none;\n",
              "    border-radius: 50%;\n",
              "    cursor: pointer;\n",
              "    display: none;\n",
              "    fill: var(--fill-color);\n",
              "    height: 32px;\n",
              "    padding: 0;\n",
              "    width: 32px;\n",
              "  }\n",
              "\n",
              "  .colab-df-quickchart:hover {\n",
              "    background-color: var(--hover-bg-color);\n",
              "    box-shadow: 0 1px 2px rgba(60, 64, 67, 0.3), 0 1px 3px 1px rgba(60, 64, 67, 0.15);\n",
              "    fill: var(--button-hover-fill-color);\n",
              "  }\n",
              "\n",
              "  .colab-df-quickchart-complete:disabled,\n",
              "  .colab-df-quickchart-complete:disabled:hover {\n",
              "    background-color: var(--disabled-bg-color);\n",
              "    fill: var(--disabled-fill-color);\n",
              "    box-shadow: none;\n",
              "  }\n",
              "\n",
              "  .colab-df-spinner {\n",
              "    border: 2px solid var(--fill-color);\n",
              "    border-color: transparent;\n",
              "    border-bottom-color: var(--fill-color);\n",
              "    animation:\n",
              "      spin 1s steps(1) infinite;\n",
              "  }\n",
              "\n",
              "  @keyframes spin {\n",
              "    0% {\n",
              "      border-color: transparent;\n",
              "      border-bottom-color: var(--fill-color);\n",
              "      border-left-color: var(--fill-color);\n",
              "    }\n",
              "    20% {\n",
              "      border-color: transparent;\n",
              "      border-left-color: var(--fill-color);\n",
              "      border-top-color: var(--fill-color);\n",
              "    }\n",
              "    30% {\n",
              "      border-color: transparent;\n",
              "      border-left-color: var(--fill-color);\n",
              "      border-top-color: var(--fill-color);\n",
              "      border-right-color: var(--fill-color);\n",
              "    }\n",
              "    40% {\n",
              "      border-color: transparent;\n",
              "      border-right-color: var(--fill-color);\n",
              "      border-top-color: var(--fill-color);\n",
              "    }\n",
              "    60% {\n",
              "      border-color: transparent;\n",
              "      border-right-color: var(--fill-color);\n",
              "    }\n",
              "    80% {\n",
              "      border-color: transparent;\n",
              "      border-right-color: var(--fill-color);\n",
              "      border-bottom-color: var(--fill-color);\n",
              "    }\n",
              "    90% {\n",
              "      border-color: transparent;\n",
              "      border-bottom-color: var(--fill-color);\n",
              "    }\n",
              "  }\n",
              "</style>\n",
              "\n",
              "  <script>\n",
              "    async function quickchart(key) {\n",
              "      const quickchartButtonEl =\n",
              "        document.querySelector('#' + key + ' button');\n",
              "      quickchartButtonEl.disabled = true;  // To prevent multiple clicks.\n",
              "      quickchartButtonEl.classList.add('colab-df-spinner');\n",
              "      try {\n",
              "        const charts = await google.colab.kernel.invokeFunction(\n",
              "            'suggestCharts', [key], {});\n",
              "      } catch (error) {\n",
              "        console.error('Error during call to suggestCharts:', error);\n",
              "      }\n",
              "      quickchartButtonEl.classList.remove('colab-df-spinner');\n",
              "      quickchartButtonEl.classList.add('colab-df-quickchart-complete');\n",
              "    }\n",
              "    (() => {\n",
              "      let quickchartButtonEl =\n",
              "        document.querySelector('#df-f31e23e4-5d35-4149-b7b8-3686f44eda68 button');\n",
              "      quickchartButtonEl.style.display =\n",
              "        google.colab.kernel.accessAllowed ? 'block' : 'none';\n",
              "    })();\n",
              "  </script>\n",
              "</div>\n",
              "    </div>\n",
              "  </div>\n"
            ]
          },
          "metadata": {},
          "execution_count": 4
        }
      ]
    },
    {
      "cell_type": "code",
      "source": [
        "#select some features for modelling\n",
        "selected_df = churn_df[['tenure', 'age', 'address', 'income', 'ed', 'employ', 'equip',   'callcard', 'wireless','churn']]\n",
        "selected_df['churn'] = selected_df['churn'].astype(int)\n",
        "selected_df.head()"
      ],
      "metadata": {
        "colab": {
          "base_uri": "https://localhost:8080/",
          "height": 313
        },
        "id": "_CRVsVI7OdY-",
        "outputId": "1ea52404-c4e1-48b8-8d52-231c4ae5ddc5"
      },
      "execution_count": null,
      "outputs": [
        {
          "output_type": "stream",
          "name": "stderr",
          "text": [
            "<ipython-input-34-1424dc47ef9f>:3: SettingWithCopyWarning: \n",
            "A value is trying to be set on a copy of a slice from a DataFrame.\n",
            "Try using .loc[row_indexer,col_indexer] = value instead\n",
            "\n",
            "See the caveats in the documentation: https://pandas.pydata.org/pandas-docs/stable/user_guide/indexing.html#returning-a-view-versus-a-copy\n",
            "  selected_df['churn'] = selected_df['churn'].astype(int)\n"
          ]
        },
        {
          "output_type": "execute_result",
          "data": {
            "text/plain": [
              "   tenure   age  address  income   ed  employ  equip  callcard  wireless  \\\n",
              "0    11.0  33.0      7.0   136.0  5.0     5.0    0.0       1.0       1.0   \n",
              "1    33.0  33.0     12.0    33.0  2.0     0.0    0.0       0.0       0.0   \n",
              "2    23.0  30.0      9.0    30.0  1.0     2.0    0.0       0.0       0.0   \n",
              "3    38.0  35.0      5.0    76.0  2.0    10.0    1.0       1.0       1.0   \n",
              "4     7.0  35.0     14.0    80.0  2.0    15.0    0.0       1.0       0.0   \n",
              "\n",
              "   churn  \n",
              "0      1  \n",
              "1      1  \n",
              "2      0  \n",
              "3      0  \n",
              "4      0  "
            ],
            "text/html": [
              "\n",
              "  <div id=\"df-cdc8bb8d-d406-4a78-a648-36848e1ce3df\" class=\"colab-df-container\">\n",
              "    <div>\n",
              "<style scoped>\n",
              "    .dataframe tbody tr th:only-of-type {\n",
              "        vertical-align: middle;\n",
              "    }\n",
              "\n",
              "    .dataframe tbody tr th {\n",
              "        vertical-align: top;\n",
              "    }\n",
              "\n",
              "    .dataframe thead th {\n",
              "        text-align: right;\n",
              "    }\n",
              "</style>\n",
              "<table border=\"1\" class=\"dataframe\">\n",
              "  <thead>\n",
              "    <tr style=\"text-align: right;\">\n",
              "      <th></th>\n",
              "      <th>tenure</th>\n",
              "      <th>age</th>\n",
              "      <th>address</th>\n",
              "      <th>income</th>\n",
              "      <th>ed</th>\n",
              "      <th>employ</th>\n",
              "      <th>equip</th>\n",
              "      <th>callcard</th>\n",
              "      <th>wireless</th>\n",
              "      <th>churn</th>\n",
              "    </tr>\n",
              "  </thead>\n",
              "  <tbody>\n",
              "    <tr>\n",
              "      <th>0</th>\n",
              "      <td>11.0</td>\n",
              "      <td>33.0</td>\n",
              "      <td>7.0</td>\n",
              "      <td>136.0</td>\n",
              "      <td>5.0</td>\n",
              "      <td>5.0</td>\n",
              "      <td>0.0</td>\n",
              "      <td>1.0</td>\n",
              "      <td>1.0</td>\n",
              "      <td>1</td>\n",
              "    </tr>\n",
              "    <tr>\n",
              "      <th>1</th>\n",
              "      <td>33.0</td>\n",
              "      <td>33.0</td>\n",
              "      <td>12.0</td>\n",
              "      <td>33.0</td>\n",
              "      <td>2.0</td>\n",
              "      <td>0.0</td>\n",
              "      <td>0.0</td>\n",
              "      <td>0.0</td>\n",
              "      <td>0.0</td>\n",
              "      <td>1</td>\n",
              "    </tr>\n",
              "    <tr>\n",
              "      <th>2</th>\n",
              "      <td>23.0</td>\n",
              "      <td>30.0</td>\n",
              "      <td>9.0</td>\n",
              "      <td>30.0</td>\n",
              "      <td>1.0</td>\n",
              "      <td>2.0</td>\n",
              "      <td>0.0</td>\n",
              "      <td>0.0</td>\n",
              "      <td>0.0</td>\n",
              "      <td>0</td>\n",
              "    </tr>\n",
              "    <tr>\n",
              "      <th>3</th>\n",
              "      <td>38.0</td>\n",
              "      <td>35.0</td>\n",
              "      <td>5.0</td>\n",
              "      <td>76.0</td>\n",
              "      <td>2.0</td>\n",
              "      <td>10.0</td>\n",
              "      <td>1.0</td>\n",
              "      <td>1.0</td>\n",
              "      <td>1.0</td>\n",
              "      <td>0</td>\n",
              "    </tr>\n",
              "    <tr>\n",
              "      <th>4</th>\n",
              "      <td>7.0</td>\n",
              "      <td>35.0</td>\n",
              "      <td>14.0</td>\n",
              "      <td>80.0</td>\n",
              "      <td>2.0</td>\n",
              "      <td>15.0</td>\n",
              "      <td>0.0</td>\n",
              "      <td>1.0</td>\n",
              "      <td>0.0</td>\n",
              "      <td>0</td>\n",
              "    </tr>\n",
              "  </tbody>\n",
              "</table>\n",
              "</div>\n",
              "    <div class=\"colab-df-buttons\">\n",
              "\n",
              "  <div class=\"colab-df-container\">\n",
              "    <button class=\"colab-df-convert\" onclick=\"convertToInteractive('df-cdc8bb8d-d406-4a78-a648-36848e1ce3df')\"\n",
              "            title=\"Convert this dataframe to an interactive table.\"\n",
              "            style=\"display:none;\">\n",
              "\n",
              "  <svg xmlns=\"http://www.w3.org/2000/svg\" height=\"24px\" viewBox=\"0 -960 960 960\">\n",
              "    <path d=\"M120-120v-720h720v720H120Zm60-500h600v-160H180v160Zm220 220h160v-160H400v160Zm0 220h160v-160H400v160ZM180-400h160v-160H180v160Zm440 0h160v-160H620v160ZM180-180h160v-160H180v160Zm440 0h160v-160H620v160Z\"/>\n",
              "  </svg>\n",
              "    </button>\n",
              "\n",
              "  <style>\n",
              "    .colab-df-container {\n",
              "      display:flex;\n",
              "      gap: 12px;\n",
              "    }\n",
              "\n",
              "    .colab-df-convert {\n",
              "      background-color: #E8F0FE;\n",
              "      border: none;\n",
              "      border-radius: 50%;\n",
              "      cursor: pointer;\n",
              "      display: none;\n",
              "      fill: #1967D2;\n",
              "      height: 32px;\n",
              "      padding: 0 0 0 0;\n",
              "      width: 32px;\n",
              "    }\n",
              "\n",
              "    .colab-df-convert:hover {\n",
              "      background-color: #E2EBFA;\n",
              "      box-shadow: 0px 1px 2px rgba(60, 64, 67, 0.3), 0px 1px 3px 1px rgba(60, 64, 67, 0.15);\n",
              "      fill: #174EA6;\n",
              "    }\n",
              "\n",
              "    .colab-df-buttons div {\n",
              "      margin-bottom: 4px;\n",
              "    }\n",
              "\n",
              "    [theme=dark] .colab-df-convert {\n",
              "      background-color: #3B4455;\n",
              "      fill: #D2E3FC;\n",
              "    }\n",
              "\n",
              "    [theme=dark] .colab-df-convert:hover {\n",
              "      background-color: #434B5C;\n",
              "      box-shadow: 0px 1px 3px 1px rgba(0, 0, 0, 0.15);\n",
              "      filter: drop-shadow(0px 1px 2px rgba(0, 0, 0, 0.3));\n",
              "      fill: #FFFFFF;\n",
              "    }\n",
              "  </style>\n",
              "\n",
              "    <script>\n",
              "      const buttonEl =\n",
              "        document.querySelector('#df-cdc8bb8d-d406-4a78-a648-36848e1ce3df button.colab-df-convert');\n",
              "      buttonEl.style.display =\n",
              "        google.colab.kernel.accessAllowed ? 'block' : 'none';\n",
              "\n",
              "      async function convertToInteractive(key) {\n",
              "        const element = document.querySelector('#df-cdc8bb8d-d406-4a78-a648-36848e1ce3df');\n",
              "        const dataTable =\n",
              "          await google.colab.kernel.invokeFunction('convertToInteractive',\n",
              "                                                    [key], {});\n",
              "        if (!dataTable) return;\n",
              "\n",
              "        const docLinkHtml = 'Like what you see? Visit the ' +\n",
              "          '<a target=\"_blank\" href=https://colab.research.google.com/notebooks/data_table.ipynb>data table notebook</a>'\n",
              "          + ' to learn more about interactive tables.';\n",
              "        element.innerHTML = '';\n",
              "        dataTable['output_type'] = 'display_data';\n",
              "        await google.colab.output.renderOutput(dataTable, element);\n",
              "        const docLink = document.createElement('div');\n",
              "        docLink.innerHTML = docLinkHtml;\n",
              "        element.appendChild(docLink);\n",
              "      }\n",
              "    </script>\n",
              "  </div>\n",
              "\n",
              "\n",
              "<div id=\"df-a4862f57-5d1c-4451-991c-91d0663eb593\">\n",
              "  <button class=\"colab-df-quickchart\" onclick=\"quickchart('df-a4862f57-5d1c-4451-991c-91d0663eb593')\"\n",
              "            title=\"Suggest charts\"\n",
              "            style=\"display:none;\">\n",
              "\n",
              "<svg xmlns=\"http://www.w3.org/2000/svg\" height=\"24px\"viewBox=\"0 0 24 24\"\n",
              "     width=\"24px\">\n",
              "    <g>\n",
              "        <path d=\"M19 3H5c-1.1 0-2 .9-2 2v14c0 1.1.9 2 2 2h14c1.1 0 2-.9 2-2V5c0-1.1-.9-2-2-2zM9 17H7v-7h2v7zm4 0h-2V7h2v10zm4 0h-2v-4h2v4z\"/>\n",
              "    </g>\n",
              "</svg>\n",
              "  </button>\n",
              "\n",
              "<style>\n",
              "  .colab-df-quickchart {\n",
              "      --bg-color: #E8F0FE;\n",
              "      --fill-color: #1967D2;\n",
              "      --hover-bg-color: #E2EBFA;\n",
              "      --hover-fill-color: #174EA6;\n",
              "      --disabled-fill-color: #AAA;\n",
              "      --disabled-bg-color: #DDD;\n",
              "  }\n",
              "\n",
              "  [theme=dark] .colab-df-quickchart {\n",
              "      --bg-color: #3B4455;\n",
              "      --fill-color: #D2E3FC;\n",
              "      --hover-bg-color: #434B5C;\n",
              "      --hover-fill-color: #FFFFFF;\n",
              "      --disabled-bg-color: #3B4455;\n",
              "      --disabled-fill-color: #666;\n",
              "  }\n",
              "\n",
              "  .colab-df-quickchart {\n",
              "    background-color: var(--bg-color);\n",
              "    border: none;\n",
              "    border-radius: 50%;\n",
              "    cursor: pointer;\n",
              "    display: none;\n",
              "    fill: var(--fill-color);\n",
              "    height: 32px;\n",
              "    padding: 0;\n",
              "    width: 32px;\n",
              "  }\n",
              "\n",
              "  .colab-df-quickchart:hover {\n",
              "    background-color: var(--hover-bg-color);\n",
              "    box-shadow: 0 1px 2px rgba(60, 64, 67, 0.3), 0 1px 3px 1px rgba(60, 64, 67, 0.15);\n",
              "    fill: var(--button-hover-fill-color);\n",
              "  }\n",
              "\n",
              "  .colab-df-quickchart-complete:disabled,\n",
              "  .colab-df-quickchart-complete:disabled:hover {\n",
              "    background-color: var(--disabled-bg-color);\n",
              "    fill: var(--disabled-fill-color);\n",
              "    box-shadow: none;\n",
              "  }\n",
              "\n",
              "  .colab-df-spinner {\n",
              "    border: 2px solid var(--fill-color);\n",
              "    border-color: transparent;\n",
              "    border-bottom-color: var(--fill-color);\n",
              "    animation:\n",
              "      spin 1s steps(1) infinite;\n",
              "  }\n",
              "\n",
              "  @keyframes spin {\n",
              "    0% {\n",
              "      border-color: transparent;\n",
              "      border-bottom-color: var(--fill-color);\n",
              "      border-left-color: var(--fill-color);\n",
              "    }\n",
              "    20% {\n",
              "      border-color: transparent;\n",
              "      border-left-color: var(--fill-color);\n",
              "      border-top-color: var(--fill-color);\n",
              "    }\n",
              "    30% {\n",
              "      border-color: transparent;\n",
              "      border-left-color: var(--fill-color);\n",
              "      border-top-color: var(--fill-color);\n",
              "      border-right-color: var(--fill-color);\n",
              "    }\n",
              "    40% {\n",
              "      border-color: transparent;\n",
              "      border-right-color: var(--fill-color);\n",
              "      border-top-color: var(--fill-color);\n",
              "    }\n",
              "    60% {\n",
              "      border-color: transparent;\n",
              "      border-right-color: var(--fill-color);\n",
              "    }\n",
              "    80% {\n",
              "      border-color: transparent;\n",
              "      border-right-color: var(--fill-color);\n",
              "      border-bottom-color: var(--fill-color);\n",
              "    }\n",
              "    90% {\n",
              "      border-color: transparent;\n",
              "      border-bottom-color: var(--fill-color);\n",
              "    }\n",
              "  }\n",
              "</style>\n",
              "\n",
              "  <script>\n",
              "    async function quickchart(key) {\n",
              "      const quickchartButtonEl =\n",
              "        document.querySelector('#' + key + ' button');\n",
              "      quickchartButtonEl.disabled = true;  // To prevent multiple clicks.\n",
              "      quickchartButtonEl.classList.add('colab-df-spinner');\n",
              "      try {\n",
              "        const charts = await google.colab.kernel.invokeFunction(\n",
              "            'suggestCharts', [key], {});\n",
              "      } catch (error) {\n",
              "        console.error('Error during call to suggestCharts:', error);\n",
              "      }\n",
              "      quickchartButtonEl.classList.remove('colab-df-spinner');\n",
              "      quickchartButtonEl.classList.add('colab-df-quickchart-complete');\n",
              "    }\n",
              "    (() => {\n",
              "      let quickchartButtonEl =\n",
              "        document.querySelector('#df-a4862f57-5d1c-4451-991c-91d0663eb593 button');\n",
              "      quickchartButtonEl.style.display =\n",
              "        google.colab.kernel.accessAllowed ? 'block' : 'none';\n",
              "    })();\n",
              "  </script>\n",
              "</div>\n",
              "    </div>\n",
              "  </div>\n"
            ]
          },
          "metadata": {},
          "execution_count": 34
        }
      ]
    },
    {
      "cell_type": "code",
      "source": [
        "x = np.asanyarray(selected_df[['tenure', 'age', 'address', 'income', 'ed', 'employ', 'equip']])\n",
        "y = np.asanyarray(selected_df['churn'])"
      ],
      "metadata": {
        "id": "pdrGyAKQO_M2"
      },
      "execution_count": null,
      "outputs": []
    },
    {
      "cell_type": "code",
      "source": [
        "#transform the data\n",
        "x = preprocessing.StandardScaler().fit_transform(x)\n",
        "x[:5]"
      ],
      "metadata": {
        "colab": {
          "base_uri": "https://localhost:8080/"
        },
        "id": "c5T1998sPQ-y",
        "outputId": "a64e1d6e-f9b3-4d9e-da9e-a620a1e40fe5"
      },
      "execution_count": null,
      "outputs": [
        {
          "output_type": "execute_result",
          "data": {
            "text/plain": [
              "array([[-1.13518441, -0.62595491, -0.4588971 ,  0.4751423 ,  1.6961288 ,\n",
              "        -0.58477841, -0.85972695],\n",
              "       [-0.11604313, -0.62595491,  0.03454064, -0.32886061, -0.6433592 ,\n",
              "        -1.14437497, -0.85972695],\n",
              "       [-0.57928917, -0.85594447, -0.261522  , -0.35227817, -1.42318853,\n",
              "        -0.92053635, -0.85972695],\n",
              "       [ 0.11557989, -0.47262854, -0.65627219,  0.00679109, -0.6433592 ,\n",
              "        -0.02518185,  1.16316   ],\n",
              "       [-1.32048283, -0.47262854,  0.23191574,  0.03801451, -0.6433592 ,\n",
              "         0.53441472, -0.85972695]])"
            ]
          },
          "metadata": {},
          "execution_count": 9
        }
      ]
    },
    {
      "cell_type": "code",
      "source": [
        "x_train , x_test, y_train, y_test = train_test_split(x, y, test_size=0.2, random_state=41)\n",
        "x_train.shape , x_test.shape , y_train.shape , y_test.shape"
      ],
      "metadata": {
        "colab": {
          "base_uri": "https://localhost:8080/"
        },
        "id": "tOihh0EgPaWc",
        "outputId": "6f81b728-470b-44e7-a118-79a8864103de"
      },
      "execution_count": null,
      "outputs": [
        {
          "output_type": "execute_result",
          "data": {
            "text/plain": [
              "((160, 7), (40, 7), (160,), (40,))"
            ]
          },
          "metadata": {},
          "execution_count": 12
        }
      ]
    },
    {
      "cell_type": "code",
      "source": [
        "lr = LogisticRegression(C = 0.01, solver='liblinear')\n",
        "lr.fit(x_train, y_train)\n",
        "y_hat = lr.predict(x_test)"
      ],
      "metadata": {
        "id": "ahU_rXhLPyin"
      },
      "execution_count": null,
      "outputs": []
    },
    {
      "cell_type": "code",
      "source": [
        "y_hat_probs = lr.predict_proba(x_test)"
      ],
      "metadata": {
        "id": "MAxehICqQpLs"
      },
      "execution_count": null,
      "outputs": []
    },
    {
      "cell_type": "markdown",
      "source": [
        "## Evaluate the model"
      ],
      "metadata": {
        "id": "7Bvl-zkIRxSj"
      }
    },
    {
      "cell_type": "code",
      "source": [
        "#jaccord index\n",
        "from sklearn.metrics import jaccard_score\n",
        "jaccard_score(y_test, y_hat, pos_label= 0)"
      ],
      "metadata": {
        "colab": {
          "base_uri": "https://localhost:8080/"
        },
        "id": "0n9_f5qCRz3d",
        "outputId": "689ad4e1-a688-4ad4-8912-2608710831e0"
      },
      "execution_count": null,
      "outputs": [
        {
          "output_type": "execute_result",
          "data": {
            "text/plain": [
              "0.75"
            ]
          },
          "metadata": {},
          "execution_count": 21
        }
      ]
    },
    {
      "cell_type": "code",
      "source": [
        "jaccard_score(y_test, y_hat, pos_label= 1)"
      ],
      "metadata": {
        "colab": {
          "base_uri": "https://localhost:8080/"
        },
        "id": "G_26bxssTD2P",
        "outputId": "851857ec-6d6e-42ee-8665-ba09c91ff0b0"
      },
      "execution_count": null,
      "outputs": [
        {
          "output_type": "execute_result",
          "data": {
            "text/plain": [
              "0.5"
            ]
          },
          "metadata": {},
          "execution_count": 22
        }
      ]
    },
    {
      "cell_type": "code",
      "source": [
        "sum(y_test == y_hat)/len(y_hat)"
      ],
      "metadata": {
        "colab": {
          "base_uri": "https://localhost:8080/"
        },
        "id": "kwhirl6ATJYy",
        "outputId": "e000d60e-f311-4337-8e3b-f0294d3030f3"
      },
      "execution_count": null,
      "outputs": [
        {
          "output_type": "execute_result",
          "data": {
            "text/plain": [
              "0.8"
            ]
          },
          "metadata": {},
          "execution_count": 24
        }
      ]
    },
    {
      "cell_type": "markdown",
      "source": [
        "![image.png](data:image/png;base64,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)"
      ],
      "metadata": {
        "id": "wc-iFfrATfQt"
      }
    },
    {
      "cell_type": "markdown",
      "source": [
        "### Confusion matrix"
      ],
      "metadata": {
        "id": "XzAfNha9TlOp"
      }
    },
    {
      "cell_type": "code",
      "source": [
        "cm = confusion_matrix(y_test, y_hat, labels =[1,0])"
      ],
      "metadata": {
        "id": "Xk2HNqbjTepf"
      },
      "execution_count": null,
      "outputs": []
    },
    {
      "cell_type": "code",
      "source": [
        "cmd = ConfusionMatrixDisplay(confusion_matrix= cm, display_labels=lr.classes_)\n",
        "cmd.plot()\n",
        "plt.show()"
      ],
      "metadata": {
        "colab": {
          "base_uri": "https://localhost:8080/",
          "height": 449
        },
        "id": "DA6qBnv7TLW0",
        "outputId": "a05c40cf-9f8f-42ef-a3f9-ffd3a8b7bc80"
      },
      "execution_count": null,
      "outputs": [
        {
          "output_type": "display_data",
          "data": {
            "text/plain": [
              "<Figure size 640x480 with 2 Axes>"
            ],
            "image/png": "[encoded data removed]"
          },
          "metadata": {}
        }
      ]
    },
    {
      "cell_type": "markdown",
      "source": [
        "### Interpretation of confusion matrix\n",
        "\n",
        "\n",
        "\n",
        "\n",
        "\n",
        "\n"
      ],
      "metadata": {
        "id": "ZhhIBxy_Vfmt"
      }
    },
    {
      "cell_type": "code",
      "source": [
        "print(classification_report(y_test, y_hat))\n",
        "#our modcel give us 80% accuracy"
      ],
      "metadata": {
        "colab": {
          "base_uri": "https://localhost:8080/"
        },
        "id": "rKH3_yu8VLR0",
        "outputId": "d0855b46-94dd-4d92-8712-2c9e57244f1d"
      },
      "execution_count": null,
      "outputs": [
        {
          "output_type": "stream",
          "name": "stdout",
          "text": [
            "              precision    recall  f1-score   support\n",
            "\n",
            "           0       0.86      0.86      0.86        28\n",
            "           1       0.67      0.67      0.67        12\n",
            "\n",
            "    accuracy                           0.80        40\n",
            "   macro avg       0.76      0.76      0.76        40\n",
            "weighted avg       0.80      0.80      0.80        40\n",
            "\n"
          ]
        }
      ]
    },
    {
      "cell_type": "code",
      "source": [
        "lr2 = LogisticRegression(C = 0.5, solver='liblinear')\n",
        "lr2.fit(x_train, y_train)\n",
        "y_hat = lr2.predict(x_test)\n",
        "print(classification_report(y_test, y_hat))"
      ],
      "metadata": {
        "colab": {
          "base_uri": "https://localhost:8080/"
        },
        "id": "K0Vf_ytFWOjy",
        "outputId": "75cf5748-ba8d-4799-9459-659280ed05eb"
      },
      "execution_count": null,
      "outputs": [
        {
          "output_type": "stream",
          "name": "stdout",
          "text": [
            "              precision    recall  f1-score   support\n",
            "\n",
            "           0       0.79      0.93      0.85        28\n",
            "           1       0.71      0.42      0.53        12\n",
            "\n",
            "    accuracy                           0.78        40\n",
            "   macro avg       0.75      0.67      0.69        40\n",
            "weighted avg       0.77      0.78      0.75        40\n",
            "\n"
          ]
        }
      ]
    },
    {
      "cell_type": "code",
      "source": [
        "lr3 = LogisticRegression(C = 0.01, solver='lbfgs')\n",
        "lr3.fit(x_train, y_train)\n",
        "y_hat = lr3.predict(x_test)\n",
        "print(classification_report(y_test, y_hat))"
      ],
      "metadata": {
        "colab": {
          "base_uri": "https://localhost:8080/"
        },
        "id": "QspSX7-pYeHm",
        "outputId": "3d4122fe-3ea6-4561-fe87-e68b163a738e"
      },
      "execution_count": null,
      "outputs": [
        {
          "output_type": "stream",
          "name": "stdout",
          "text": [
            "              precision    recall  f1-score   support\n",
            "\n",
            "           0       0.70      1.00      0.82        28\n",
            "           1       0.00      0.00      0.00        12\n",
            "\n",
            "    accuracy                           0.70        40\n",
            "   macro avg       0.35      0.50      0.41        40\n",
            "weighted avg       0.49      0.70      0.58        40\n",
            "\n"
          ]
        },
        {
          "output_type": "stream",
          "name": "stderr",
          "text": [
            "/usr/local/lib/python3.10/dist-packages/sklearn/metrics/_classification.py:1344: UndefinedMetricWarning: Precision and F-score are ill-defined and being set to 0.0 in labels with no predicted samples. Use `zero_division` parameter to control this behavior.\n",
            "  _warn_prf(average, modifier, msg_start, len(result))\n",
            "/usr/local/lib/python3.10/dist-packages/sklearn/metrics/_classification.py:1344: UndefinedMetricWarning: Precision and F-score are ill-defined and being set to 0.0 in labels with no predicted samples. Use `zero_division` parameter to control this behavior.\n",
            "  _warn_prf(average, modifier, msg_start, len(result))\n",
            "/usr/local/lib/python3.10/dist-packages/sklearn/metrics/_classification.py:1344: UndefinedMetricWarning: Precision and F-score are ill-defined and being set to 0.0 in labels with no predicted samples. Use `zero_division` parameter to control this behavior.\n",
            "  _warn_prf(average, modifier, msg_start, len(result))\n"
          ]
        }
      ]
    },
    {
      "cell_type": "markdown",
      "source": [
        "## Explanation of C value (Regularization term)\n",
        "\n",
        "- C is hyperparameter, i need to decide what is the best value based on the tuning. Cross validation is one of the method\n",
        "- In sklearn , c is the inverse of the regularization term\n",
        "- If C is large, less penalty when optimizing, model tend to overfit and vice versa\n",
        "- In summary, C is parameter keeps the balance between simplicity of the model and fit the model very well\n",
        "\n",
        "\n",
        "\n"
      ],
      "metadata": {
        "id": "lnhXXnOLZZyU"
      }
    },
    {
      "cell_type": "code",
      "source": [],
      "metadata": {
        "id": "h3oK0XOZZAGk"
      },
      "execution_count": null,
      "outputs": []
    }
  ]
}