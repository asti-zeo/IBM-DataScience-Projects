{
  "nbformat": 4,
  "nbformat_minor": 0,
  "metadata": {
    "colab": {
      "provenance": [],
      "gpuType": "T4"
    },
    "kernelspec": {
      "name": "python3",
      "display_name": "Python 3"
    },
    "language_info": {
      "name": "python"
    }
  },
  "cells": [
    {
      "cell_type": "code",
      "source": [
        "import pandas as pd\n",
        "import numpy as np\n",
        "import pylab as pl\n",
        "import matplotlib.pyplot as plt\n",
        "%matplotlib inline\n",
        "import seaborn as sns\n",
        "\n",
        "from typing import List\n",
        "\n",
        "from sklearn import linear_model\n",
        "from sklearn.metrics import r2_score, PredictionErrorDisplay"
      ],
      "metadata": {
        "id": "f6Ya8VbFslUd"
      },
      "execution_count": null,
      "outputs": []
    },
    {
      "cell_type": "code",
      "source": [
        "!curl https://cf-courses-data.s3.us.cloud-object-storage.appdomain.cloud/IBMDeveloperSkillsNetwork-ML0101EN-SkillsNetwork/labs/Module%202/data/FuelConsumptionCo2.csv -o FuelConsumptionCo2.csv"
      ],
      "metadata": {
        "colab": {
          "base_uri": "https://localhost:8080/"
        },
        "id": "0z7ao50K9O7T",
        "outputId": "9c1a2217-46b2-4d49-f58f-d991474f9ed5"
      },
      "execution_count": null,
      "outputs": [
        {
          "output_type": "stream",
          "name": "stdout",
          "text": [
            "  % Total    % Received % Xferd  Average Speed   Time    Time     Time  Current\n",
            "                                 Dload  Upload   Total   Spent    Left  Speed\n",
            "100 72629  100 72629    0     0   110k      0 --:--:-- --:--:-- --:--:--  111k\n"
          ]
        }
      ]
    },
    {
      "cell_type": "code",
      "source": [
        "!wget -O FuelConsumption.csv https://cf-courses-data.s3.us.cloud-object-storage.appdomain.cloud/IBMDeveloperSkillsNetwork-ML0101EN-SkillsNetwork/labs/Module%202/data/FuelConsumptionCo2.csv\n"
      ],
      "metadata": {
        "colab": {
          "base_uri": "https://localhost:8080/"
        },
        "id": "GB9kHvbE9K5Z",
        "outputId": "8eabffd0-b389-48c0-b80f-1cbe012f7b6a"
      },
      "execution_count": null,
      "outputs": [
        {
          "output_type": "stream",
          "name": "stdout",
          "text": [
            "--2024-01-05 22:34:25--  https://cf-courses-data.s3.us.cloud-object-storage.appdomain.cloud/IBMDeveloperSkillsNetwork-ML0101EN-SkillsNetwork/labs/Module%202/data/FuelConsumptionCo2.csv\n",
            "Resolving cf-courses-data.s3.us.cloud-object-storage.appdomain.cloud (cf-courses-data.s3.us.cloud-object-storage.appdomain.cloud)... 169.63.118.104\n",
            "Connecting to cf-courses-data.s3.us.cloud-object-storage.appdomain.cloud (cf-courses-data.s3.us.cloud-object-storage.appdomain.cloud)|169.63.118.104|:443... connected.\n",
            "HTTP request sent, awaiting response... 200 OK\n",
            "Length: 72629 (71K) [text/csv]\n",
            "Saving to: ‘FuelConsumption.csv’\n",
            "\n",
            "FuelConsumption.csv 100%[===================>]  70.93K  --.-KB/s    in 0.1s    \n",
            "\n",
            "2024-01-05 22:34:25 (493 KB/s) - ‘FuelConsumption.csv’ saved [72629/72629]\n",
            "\n"
          ]
        }
      ]
    },
    {
      "cell_type": "code",
      "source": [
        "df = pd.read_csv(\"FuelConsumption.csv\")"
      ],
      "metadata": {
        "id": "QjwbQ2cN9Trr"
      },
      "execution_count": null,
      "outputs": []
    },
    {
      "cell_type": "code",
      "execution_count": null,
      "metadata": {
        "id": "fVIafHWjq8ec"
      },
      "outputs": [],
      "source": [
        "def multiple_linear_reg(cdf, features:List[str], target:str):\n",
        "  msk = np.random.rand(len(cdf)) <0.8\n",
        "  train = cdf[msk]\n",
        "  test = cdf[~msk]\n",
        "\n",
        "\n",
        "  train_x = np.asanyarray(train[features])\n",
        "  train_y = np.asanyarray(train[[target]])\n",
        "\n",
        "  test_x = np.asanyarray(test[features])\n",
        "  test_y = np.asanyarray(test[[target]])\n",
        "\n",
        "  reg = linear_model.LinearRegression()\n",
        "  reg.fit(train_x, train_y)\n",
        "\n",
        "  variance_explained = reg.score(train_x, train_y)\n",
        "\n",
        "  test_yhat = reg.predict(test_x)\n",
        "\n",
        "  weights = np.asanyarray(reg.coef_)\n",
        "  bias = np.asanyarray(reg.intercept_)\n",
        "\n",
        "  cols = list(features)\n",
        "  cols.append(\"Intercept\")\n",
        "\n",
        "  result_df = pd.DataFrame((np.concatenate((weights.flatten(),bias), axis = 0)).reshape(1,-1) , columns = cols , index= None)\n",
        "  MSE = np.mean((test_yhat - test_y)**2)\n",
        "  print(result_df)\n",
        "  print(f'{features} vs {target} - ',\"Mean squred Error(MSE): %.2f\"% MSE)\n",
        "  print(f'{features} vs {target} - ',\"R-sqd: %.2f\"% r2_score(test_yhat, test_y))\n",
        "  print(f'{features} vs {target} - ',\"Variance Score: %.2f\"% variance_explained)\n",
        "  return result_df, MSE, variance_explained"
      ]
    },
    {
      "cell_type": "code",
      "source": [
        "x,y,z = multiple_linear_reg(df, ['ENGINESIZE','CYLINDERS','FUELCONSUMPTION_COMB'], 'CO2EMISSIONS')"
      ],
      "metadata": {
        "colab": {
          "base_uri": "https://localhost:8080/"
        },
        "id": "pY0kYu_ou5Qn",
        "outputId": "ab01905d-c5fc-45ca-888c-6d060c9d026f"
      },
      "execution_count": null,
      "outputs": [
        {
          "output_type": "stream",
          "name": "stdout",
          "text": [
            "   ENGINESIZE  CYLINDERS  FUELCONSUMPTION_COMB  Intercept\n",
            "0   12.224957   7.266784              9.009847  68.321406\n",
            "['ENGINESIZE', 'CYLINDERS', 'FUELCONSUMPTION_COMB'] vs CO2EMISSIONS -  Mean squred Error(MSE): 518.63\n",
            "['ENGINESIZE', 'CYLINDERS', 'FUELCONSUMPTION_COMB'] vs CO2EMISSIONS -  R-sqd: 0.83\n",
            "['ENGINESIZE', 'CYLINDERS', 'FUELCONSUMPTION_COMB'] vs CO2EMISSIONS -  Variance Score: 0.86\n"
          ]
        }
      ]
    },
    {
      "cell_type": "code",
      "source": [],
      "metadata": {
        "id": "qqZRl-Yb4AtC"
      },
      "execution_count": null,
      "outputs": []
    }
  ]
}